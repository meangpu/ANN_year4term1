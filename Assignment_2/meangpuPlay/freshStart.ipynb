{
 "cells": [
  {
   "cell_type": "code",
   "execution_count": 110,
   "metadata": {},
   "outputs": [
    {
     "name": "stdout",
     "output_type": "stream",
     "text": [
      "Loading time 17.735206842422485\n",
      "(70000, 784)\n",
      "(70000,)\n"
     ]
    }
   ],
   "source": [
    "import numpy as np\n",
    "from matplotlib import pyplot as plt\n",
    "from sklearn.datasets import fetch_openml\n",
    "import time\n",
    "\n",
    "t1 = time.time()\n",
    "X, y = fetch_openml('mnist_784', version=1, return_X_y=True, as_frame=False)\n",
    "t2 = time.time()\n",
    "print('Loading time', t2-t1)\n",
    "\n",
    "print(X.shape)  # object with shape 70000 * 784 pixel\n",
    "print(y.shape)  # answer of x"
   ]
  },
  {
   "cell_type": "code",
   "execution_count": 169,
   "metadata": {},
   "outputs": [
    {
     "data": {
      "text/plain": [
       "(784, 60199)"
      ]
     },
     "execution_count": 169,
     "metadata": {},
     "output_type": "execute_result"
    }
   ],
   "source": [
    "from sklearn.model_selection import train_test_split\n",
    "\n",
    "X_train, X_test, Y_train, Y_test = train_test_split(X, y, stratify=y, test_size=0.14, random_state=21)\n",
    "\n",
    "X_train = X_train/255  # reformat colour value from 1-255 to be only 0-1 \n",
    "X_test = X_test/255  # reformat colour value from 1-255 to be only 0-1 \n",
    "\n",
    "Y_train = Y_train.astype(int)\n",
    "Y_test = Y_test.astype(int)\n",
    "\n",
    "X_train = X_train.T  # transpose x so it be (784, 60199)\n",
    "X_test = X_test.T  # transpose x so it be (784, 60199)\n",
    "\n",
    "X_train.shape\n"
   ]
  },
  {
   "cell_type": "code",
   "execution_count": 171,
   "metadata": {},
   "outputs": [],
   "source": [
    "def init_param():\n",
    "    # rand will random number between 0 to 1 \n",
    "    w1 = np.random.rand(10, 784).reshape(10, 784) -0.5\n",
    "    b1 = np.random.rand(10, 1).reshape(10, 1) - 0.5\n",
    "    w2 = np.random.rand(10, 10).reshape(10, 10) - 0.5\n",
    "    b2 = np.random.rand(10, 1).reshape(10, 1) - 0.5\n",
    "    return w1, b1, w2, b2\n",
    "\n",
    "def forward_prop(w1, b1, w2, b2, X):\n",
    "    Z1 = w1.dot(X) + b1\n",
    "    A1 = ReLu(Z1)\n",
    "    Z2 = w2.dot(A1) + b2\n",
    "    A2 = softmax(Z2)\n",
    "    return Z1, A1, Z2, A2\n",
    "\n",
    "def back_prop(Z1, A1, Z2, A2, W2, X, Y):\n",
    "    m = Y.size\n",
    "    one_hot_Y = one_hot(Y)\n",
    "    dZ2 = A2 - one_hot_Y\n",
    "    dW2 = 1/m*dZ2.dot(A1.T)\n",
    "    db2 = 1/m*np.sum(dZ2)\n",
    "    dZ1 = W2.T.dot(dZ2) * derivative_RelU(Z1)\n",
    "    dW1 = 1/m*dZ1.dot(X.T)\n",
    "    db1 = 1/m*np.sum(dZ1)\n",
    "    return dW1, db1, dW2, db2\n",
    "\n",
    "\n",
    "def derivative_RelU(Z):\n",
    "    return Z > 0\n",
    "\n",
    "def ReLu(Z):\n",
    "    # function that change x to 0 if x is less than 0 \n",
    "    return np.maximum(0, Z)\n",
    "\n",
    "def softmax(Z):\n",
    "    A = np.exp(Z) / sum(np.exp(Z))\n",
    "    return A\n",
    "\n",
    "def one_hot(Y):\n",
    "    one_hot_Y = np.zeros((Y.size, Y.max() + 1))\n",
    "    one_hot_Y[np.arange(Y.size), Y] = 1\n",
    "    one_hot_Y = one_hot_Y.T\n",
    "    return one_hot_Y\n",
    "\n",
    "def update_params(w1, b1, w2, b2, dw1, db1, dw2, db2, alpha):\n",
    "    w1 = w1 - alpha * dw1\n",
    "    b1 = b1 - alpha * db1\n",
    "    w2 = w2 - alpha * dw2\n",
    "    b2 = b2 - alpha * db2\n",
    "    return w1, b1, w2, b2\n",
    "\n",
    "\n",
    "# init_param()"
   ]
  },
  {
   "cell_type": "code",
   "execution_count": 172,
   "metadata": {},
   "outputs": [],
   "source": [
    "def get_predict(A2):\n",
    "    return np.argmax(A2, 0)\n",
    "\n",
    "def get_accuracy(predictions, Y):\n",
    "    return np.sum(predictions == Y) / Y.size\n",
    "\n",
    "\n",
    "def gradient_descent(X, Y, iterations, alpha):\n",
    "    w1, b1, w2, b2 = init_param()\n",
    "    for i in range(iterations):\n",
    "        z1, a1, z2, a2 = forward_prop(w1, b1, w2, b2, X)\n",
    "        dw1, db1, dw2, db2 = back_prop(z1, a1, z2, a2, w2, X, Y)\n",
    "        w1, b1, w2, b2 = update_params(w1, b1, w2, b2, dw1, db1, dw2, db2, alpha)\n",
    "        if i % 10 == 0:  # every 10 iter\n",
    "            print(f\"Iteration: {i}\")\n",
    "            print(f\"Accuracy: {get_accuracy(get_predict(a2), Y)}\")\n",
    "\n",
    "    return w1, b1, w2, b2"
   ]
  },
  {
   "cell_type": "code",
   "execution_count": 173,
   "metadata": {},
   "outputs": [
    {
     "name": "stdout",
     "output_type": "stream",
     "text": [
      "Iteration: 0\n",
      "Accuracy: 0.15835811226100102\n",
      "Iteration: 10\n",
      "Accuracy: 0.39156796624528645\n",
      "Iteration: 20\n",
      "Accuracy: 0.5526503762520972\n",
      "Iteration: 30\n",
      "Accuracy: 0.6398279041180086\n",
      "Iteration: 40\n",
      "Accuracy: 0.688051296533165\n",
      "Iteration: 50\n",
      "Accuracy: 0.6559245170185551\n",
      "Iteration: 60\n",
      "Accuracy: 0.6918387348627053\n",
      "Iteration: 70\n",
      "Accuracy: 0.7253941095367032\n",
      "Iteration: 80\n",
      "Accuracy: 0.7442648548979219\n",
      "Iteration: 90\n",
      "Accuracy: 0.7618897323875812\n",
      "Iteration: 100\n",
      "Accuracy: 0.7775876675692287\n",
      "Iteration: 110\n",
      "Accuracy: 0.790361966145617\n",
      "Iteration: 120\n",
      "Accuracy: 0.8018737852788252\n",
      "Iteration: 130\n",
      "Accuracy: 0.8113091579594346\n",
      "Iteration: 140\n",
      "Accuracy: 0.8190999850495856\n",
      "Iteration: 150\n",
      "Accuracy: 0.8264755228492168\n",
      "Iteration: 160\n",
      "Accuracy: 0.8325387464908055\n",
      "Iteration: 170\n",
      "Accuracy: 0.836708250967624\n",
      "Iteration: 180\n",
      "Accuracy: 0.8383694081297032\n",
      "Iteration: 190\n",
      "Accuracy: 0.8410937058755129\n",
      "Iteration: 200\n",
      "Accuracy: 0.8497981694048073\n",
      "Iteration: 210\n",
      "Accuracy: 0.8542666821708002\n",
      "Iteration: 220\n",
      "Accuracy: 0.8569743683449891\n",
      "Iteration: 230\n",
      "Accuracy: 0.8582700709314108\n",
      "Iteration: 240\n",
      "Accuracy: 0.8591670957989336\n",
      "Iteration: 250\n",
      "Accuracy: 0.8603631289556305\n",
      "Iteration: 260\n",
      "Accuracy: 0.8630874267014402\n",
      "Iteration: 270\n",
      "Accuracy: 0.8660110633066994\n",
      "Iteration: 280\n",
      "Accuracy: 0.868436352763335\n",
      "Iteration: 290\n",
      "Accuracy: 0.8701141214970348\n",
      "Iteration: 300\n",
      "Accuracy: 0.8715593282280436\n",
      "Iteration: 310\n",
      "Accuracy: 0.8729380886725693\n",
      "Iteration: 320\n",
      "Accuracy: 0.8740510639711623\n",
      "Iteration: 330\n",
      "Accuracy: 0.8750145351251682\n",
      "Iteration: 340\n",
      "Accuracy: 0.8761939567102444\n",
      "Iteration: 350\n",
      "Accuracy: 0.877489659296666\n",
      "Iteration: 360\n",
      "Accuracy: 0.8789680891709165\n",
      "Iteration: 370\n",
      "Accuracy: 0.880114287612751\n",
      "Iteration: 380\n",
      "Accuracy: 0.8814764364856559\n",
      "Iteration: 390\n",
      "Accuracy: 0.8823734613531786\n",
      "Iteration: 400\n",
      "Accuracy: 0.8833701556504261\n",
      "Iteration: 410\n",
      "Accuracy: 0.8842007342314656\n",
      "Iteration: 420\n",
      "Accuracy: 0.8849980896692636\n",
      "Iteration: 430\n",
      "Accuracy: 0.8857289988205784\n",
      "Iteration: 440\n",
      "Accuracy: 0.8866260236881012\n",
      "Iteration: 450\n",
      "Accuracy: 0.8873237096961744\n",
      "Iteration: 460\n",
      "Accuracy: 0.8878220568447981\n",
      "Iteration: 470\n",
      "Accuracy: 0.8885529659961129\n",
      "Iteration: 480\n",
      "Accuracy: 0.8893835445771524\n",
      "Iteration: 490\n",
      "Accuracy: 0.8898320570109138\n",
      "Iteration: 500\n",
      "Accuracy: 0.8904134620176415\n",
      "Iteration: 510\n",
      "Accuracy: 0.8909782554527483\n",
      "Iteration: 520\n",
      "Accuracy: 0.8915430488878553\n",
      "Iteration: 530\n",
      "Accuracy: 0.8921742886094454\n",
      "Iteration: 540\n",
      "Accuracy: 0.8928885861891394\n",
      "Iteration: 550\n",
      "Accuracy: 0.8932706523364176\n",
      "Iteration: 560\n",
      "Accuracy: 0.8937191647701789\n",
      "Iteration: 570\n",
      "Accuracy: 0.8941344540606987\n",
      "Iteration: 580\n",
      "Accuracy: 0.8944999086363561\n",
      "Iteration: 590\n",
      "Accuracy: 0.8951809830728085\n"
     ]
    }
   ],
   "source": [
    "w1, b1, w2, b2 = gradient_descent(X_train, Y_train, 600, 0.25)"
   ]
  },
  {
   "cell_type": "code",
   "execution_count": 174,
   "metadata": {},
   "outputs": [],
   "source": [
    "def make_predictions(X, W1, b1, W2, b2):\n",
    "    _, _, _, A2 = forward_prop(W1, b1, W2, b2, X)\n",
    "    predictions = get_predict(A2)\n",
    "    return predictions\n",
    "\n",
    "def test_prediction(index, W1, b1, W2, b2):\n",
    "    current_image = X_train[:, index, None]\n",
    "    prediction = make_predictions(X_train[:, index, None], W1, b1, W2, b2)\n",
    "    label = Y_train[index]\n",
    "    print(\"Prediction: \", prediction)\n",
    "    print(\"Label: \", label)\n",
    "    \n",
    "    current_image = current_image.reshape((28, 28)) * 255\n",
    "    plt.gray()\n",
    "    plt.imshow(current_image, interpolation='nearest')\n",
    "    plt.show()\n"
   ]
  },
  {
   "cell_type": "code",
   "execution_count": 175,
   "metadata": {},
   "outputs": [
    {
     "name": "stdout",
     "output_type": "stream",
     "text": [
      "Prediction:  [6]\n",
      "Label:  6\n"
     ]
    },
    {
     "data": {
      "image/png": "[encoded data removed]",
      "text/plain": [
       "<Figure size 432x288 with 1 Axes>"
      ]
     },
     "metadata": {
      "needs_background": "light"
     },
     "output_type": "display_data"
    },
    {
     "name": "stdout",
     "output_type": "stream",
     "text": [
      "Prediction:  [6]\n",
      "Label:  6\n"
     ]
    },
    {
     "data": {
      "image/png": "[encoded data removed]",
      "text/plain": [
       "<Figure size 432x288 with 1 Axes>"
      ]
     },
     "metadata": {
      "needs_background": "light"
     },
     "output_type": "display_data"
    },
    {
     "name": "stdout",
     "output_type": "stream",
     "text": [
      "Prediction:  [3]\n",
      "Label:  3\n"
     ]
    },
    {
     "data": {
      "image/png": "[encoded data removed]",
      "text/plain": [
       "<Figure size 432x288 with 1 Axes>"
      ]
     },
     "metadata": {
      "needs_background": "light"
     },
     "output_type": "display_data"
    },
    {
     "name": "stdout",
     "output_type": "stream",
     "text": [
      "Prediction:  [9]\n",
      "Label:  9\n"
     ]
    },
    {
     "data": {
      "image/png": "[encoded data removed]",
      "text/plain": [
       "<Figure size 432x288 with 1 Axes>"
      ]
     },
     "metadata": {
      "needs_background": "light"
     },
     "output_type": "display_data"
    }
   ],
   "source": [
    "test_prediction(0, w1, b1, w2, b2)\n",
    "test_prediction(1, w1, b1, w2, b2)\n",
    "test_prediction(2, w1, b1, w2, b2)\n",
    "test_prediction(3, w1, b1, w2, b2)"
   ]
  },
  {
   "cell_type": "code",
   "execution_count": 178,
   "metadata": {},
   "outputs": [
    {
     "data": {
      "text/plain": [
       "0.8992959902050811"
      ]
     },
     "execution_count": 178,
     "metadata": {},
     "output_type": "execute_result"
    }
   ],
   "source": [
    "\n",
    "dev_predictions = make_predictions(X_test, w1, b1, w2, b2)\n",
    "get_accuracy(dev_predictions, Y_test)"
   ]
  }
 ],
 "metadata": {
  "interpreter": {
   "hash": "9629cc658983539fc715441c098e5c3f0377085f7110096fe4c7b80679043bca"
  },
  "kernelspec": {
   "display_name": "Python 3.9.5 64-bit",
   "name": "python3"
  },
  "language_info": {
   "codemirror_mode": {
    "name": "ipython",
    "version": 3
   },
   "file_extension": ".py",
   "mimetype": "text/x-python",
   "name": "python",
   "nbconvert_exporter": "python",
   "pygments_lexer": "ipython3",
   "version": "3.9.5"
  },
  "orig_nbformat": 4
 },
 "nbformat": 4,
 "nbformat_minor": 2
}
