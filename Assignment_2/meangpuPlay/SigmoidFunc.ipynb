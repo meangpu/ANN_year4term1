{
 "cells": [
  {
   "cell_type": "code",
   "execution_count": 7,
   "metadata": {},
   "outputs": [
    {
     "name": "stdout",
     "output_type": "stream",
     "text": [
      "Loading time 18.10846972465515\n",
      "(70000, 784)\n",
      "(70000,)\n"
     ]
    }
   ],
   "source": [
    "import numpy as np\n",
    "from matplotlib import pyplot as plt\n",
    "from sklearn.datasets import fetch_openml\n",
    "import time\n",
    "\n",
    "t1 = time.time()\n",
    "X, y = fetch_openml('mnist_784', version=1, return_X_y=True, as_frame=False)\n",
    "t2 = time.time()\n",
    "print('Loading time', t2-t1)\n",
    "\n",
    "print(X.shape)  # object with shape 70000 * 784 pixel\n",
    "print(y.shape)  # answer of x"
   ]
  },
  {
   "cell_type": "code",
   "execution_count": 18,
   "metadata": {},
   "outputs": [
    {
     "data": {
      "text/plain": [
       "(784, 60199)"
      ]
     },
     "execution_count": 18,
     "metadata": {},
     "output_type": "execute_result"
    }
   ],
   "source": [
    "from sklearn.model_selection import train_test_split\n",
    "\n",
    "X_train, X_test, Y_train, Y_test = train_test_split(X, y, stratify=y, test_size=0.14, random_state=21)\n",
    "\n",
    "X_train = X_train/255  # reformat colour value from 1-255 to be only 0-1 \n",
    "X_test = X_test/255  # reformat colour value from 1-255 to be only 0-1 \n",
    "\n",
    "Y_train = Y_train.astype(int)\n",
    "Y_test = Y_test.astype(int)\n",
    "\n",
    "X_train = X_train.T  # transpose x so it be (784, 60199)\n",
    "X_test = X_test.T  # transpose x so it be (784, 60199)\n",
    "\n",
    "X_train.shape\n"
   ]
  },
  {
   "cell_type": "code",
   "execution_count": 20,
   "metadata": {},
   "outputs": [],
   "source": [
    "def init_param():\n",
    "    # rand will random number between 0 to 1 \n",
    "    w1 = np.random.rand(10, 784).reshape(10, 784) -0.5\n",
    "    b1 = np.random.rand(10, 1).reshape(10, 1) - 0.5\n",
    "    w2 = np.random.rand(10, 10).reshape(10, 10) - 0.5\n",
    "    b2 = np.random.rand(10, 1).reshape(10, 1) - 0.5\n",
    "    return w1, b1, w2, b2\n",
    "\n",
    "def sigmoid(a):\n",
    "    h = 1/(1 + np.exp(-a))\n",
    "    return h\n",
    "\n",
    "\n",
    "def forward_prop(w1, b1, w2, b2, X):\n",
    "    Z1 = w1.dot(X) + b1\n",
    "    A1 = ReLu(Z1)\n",
    "\n",
    "    Z2 = w2.dot(A1) + b2\n",
    "    A2 = softmax(Z2)\n",
    "    \n",
    "    yhat = A2\n",
    "\n",
    "    return Z1, A1, Z2, A2, yhat\n",
    "\n",
    "def back_prop(Z1, A1, Z2, A2, W2, X, Y):\n",
    "    m = Y.size\n",
    "    one_hot_Y = one_hot(Y)\n",
    "    dZ2 = A2 - one_hot_Y\n",
    "    dW2 = 1/m*dZ2.dot(A1.T)\n",
    "    db2 = 1/m*np.sum(dZ2)\n",
    "    dZ1 = W2.T.dot(dZ2) * derivative_RelU(Z1)\n",
    "    dW1 = 1/m*dZ1.dot(X.T)\n",
    "    db1 = 1/m*np.sum(dZ1)\n",
    "    return dW1, db1, dW2, db2\n",
    "\n",
    "\n",
    "def derivative_RelU(Z):\n",
    "    return Z > 0\n",
    "\n",
    "def ReLu(Z):\n",
    "    # function that change x to 0 if x is less than 0 \n",
    "    return np.maximum(0, Z)\n",
    "\n",
    "def softmax(Z):\n",
    "    A = np.exp(Z) / sum(np.exp(Z))\n",
    "    return A\n",
    "\n",
    "def one_hot(Y):\n",
    "    one_hot_Y = np.zeros((Y.size, Y.max() + 1))\n",
    "    one_hot_Y[np.arange(Y.size), Y] = 1\n",
    "    one_hot_Y = one_hot_Y.T\n",
    "    return one_hot_Y\n",
    "\n",
    "def update_params(w1, b1, w2, b2, dw1, db1, dw2, db2, lr1, lr2):\n",
    "    w1 = w1 - lr1 * dw1\n",
    "    b1 = b1 - lr1 * db1\n",
    "    w2 = w2 - lr2 * dw2\n",
    "    b2 = b2 - lr2 * db2\n",
    "    return w1, b1, w2, b2\n",
    "\n",
    "\n",
    "# init_param()"
   ]
  },
  {
   "cell_type": "code",
   "execution_count": 21,
   "metadata": {},
   "outputs": [],
   "source": [
    "def get_predict(A2):\n",
    "    return np.argmax(A2, 0)\n",
    "\n",
    "def get_accuracy(predictions, Y):\n",
    "    return np.sum(predictions == Y) / Y.size\n",
    "\n",
    "def mse_loss(x, y, yp):\n",
    "    return np.mean((yp - y)**2)\n",
    "\n",
    "def gradient_descent(X, Y, iterations, lr1, lr2):\n",
    "    w1, b1, w2, b2 = init_param()\n",
    "    losses = []\n",
    "\n",
    "    for i in range(iterations):\n",
    "        z1, a1, z2, a2, yhat = forward_prop(w1, b1, w2, b2, X)\n",
    "        dw1, db1, dw2, db2 = back_prop(z1, a1, z2, a2, w2, X, Y)\n",
    "        w1, b1, w2, b2 = update_params(w1, b1, w2, b2, dw1, db1, dw2, db2, lr1, lr2)\n",
    "        \n",
    "        lossi = mse_loss(X, Y, yhat)\n",
    "        losses.append(lossi)\n",
    "\n",
    "        if i % 10 == 0:  # every 10 iter\n",
    "            print(f\"Iteration: {i}\")\n",
    "            print(f\"Accuracy: {get_accuracy(get_predict(a2), Y)}\")\n",
    "\n",
    "    return w1, b1, w2, b2, losses"
   ]
  },
  {
   "cell_type": "code",
   "execution_count": 27,
   "metadata": {},
   "outputs": [
    {
     "name": "stdout",
     "output_type": "stream",
     "text": [
      "Iteration: 0\n",
      "Accuracy: 0.09863951228425721\n",
      "Iteration: 10\n",
      "Accuracy: 0.33155035797936844\n",
      "Iteration: 20\n",
      "Accuracy: 0.44724995431817804\n",
      "Iteration: 30\n",
      "Accuracy: 0.5734812870645691\n",
      "Iteration: 40\n",
      "Accuracy: 0.6615558397980033\n",
      "Iteration: 50\n",
      "Accuracy: 0.7119387365238625\n",
      "Iteration: 60\n",
      "Accuracy: 0.7150617119885713\n",
      "Iteration: 70\n",
      "Accuracy: 0.728350969285204\n",
      "Iteration: 80\n",
      "Accuracy: 0.7610591538065417\n",
      "Iteration: 90\n",
      "Accuracy: 0.7770394857057427\n",
      "Iteration: 100\n",
      "Accuracy: 0.7897639495672686\n",
      "Iteration: 110\n",
      "Accuracy: 0.8007109752653698\n",
      "Iteration: 120\n",
      "Accuracy: 0.8097476702270802\n",
      "Iteration: 130\n",
      "Accuracy: 0.8176049436037144\n",
      "Iteration: 140\n",
      "Accuracy: 0.8251964318344158\n",
      "Iteration: 150\n",
      "Accuracy: 0.831625110051662\n",
      "Iteration: 160\n",
      "Accuracy: 0.8376052758351468\n",
      "Iteration: 170\n",
      "Accuracy: 0.8424558547484178\n",
      "Iteration: 180\n",
      "Accuracy: 0.8470738716589976\n",
      "Iteration: 190\n",
      "Accuracy: 0.8513596571371618\n"
     ]
    },
    {
     "data": {
      "text/plain": [
       "[<matplotlib.lines.Line2D at 0x2709e7f3d60>]"
      ]
     },
     "execution_count": 27,
     "metadata": {},
     "output_type": "execute_result"
    },
    {
     "data": {
      "image/png": "[encoded data removed]",
      "text/plain": [
       "<Figure size 432x288 with 1 Axes>"
      ]
     },
     "metadata": {
      "needs_background": "light"
     },
     "output_type": "display_data"
    }
   ],
   "source": [
    "w1, b1, w2, b2, train_loss = gradient_descent(X_train, Y_train, 500, 0.35, 0.35)\n",
    "plt.plot(train_loss)"
   ]
  },
  {
   "cell_type": "code",
   "execution_count": 23,
   "metadata": {},
   "outputs": [],
   "source": [
    "def make_predictions(X, W1, b1, W2, b2):\n",
    "    _, _, _, A2, _ = forward_prop(W1, b1, W2, b2, X)\n",
    "    predictions = get_predict(A2)\n",
    "    return predictions\n",
    "\n",
    "def test_prediction(index, W1, b1, W2, b2):\n",
    "    current_image = X_train[:, index, None]\n",
    "    prediction = make_predictions(X_train[:, index, None], W1, b1, W2, b2)\n",
    "    label = Y_train[index]\n",
    "    print(\"Prediction: \", prediction)\n",
    "    print(\"Label: \", label)\n",
    "    \n",
    "    current_image = current_image.reshape((28, 28)) * 255\n",
    "    plt.gray()\n",
    "    plt.imshow(current_image, interpolation='nearest')\n",
    "    plt.show()\n"
   ]
  },
  {
   "cell_type": "code",
   "execution_count": 25,
   "metadata": {},
   "outputs": [
    {
     "name": "stdout",
     "output_type": "stream",
     "text": [
      "Prediction:  [6]\n",
      "Label:  6\n"
     ]
    },
    {
     "data": {
      "image/png": "[encoded data removed]",
      "text/plain": [
       "<Figure size 432x288 with 1 Axes>"
      ]
     },
     "metadata": {
      "needs_background": "light"
     },
     "output_type": "display_data"
    },
    {
     "name": "stdout",
     "output_type": "stream",
     "text": [
      "Prediction:  [6]\n",
      "Label:  6\n"
     ]
    },
    {
     "data": {
      "image/png": "[encoded data removed]",
      "text/plain": [
       "<Figure size 432x288 with 1 Axes>"
      ]
     },
     "metadata": {
      "needs_background": "light"
     },
     "output_type": "display_data"
    },
    {
     "name": "stdout",
     "output_type": "stream",
     "text": [
      "Prediction:  [3]\n",
      "Label:  3\n"
     ]
    },
    {
     "data": {
      "image/png": "[encoded data removed]",
      "text/plain": [
       "<Figure size 432x288 with 1 Axes>"
      ]
     },
     "metadata": {
      "needs_background": "light"
     },
     "output_type": "display_data"
    },
    {
     "name": "stdout",
     "output_type": "stream",
     "text": [
      "Prediction:  [9]\n",
      "Label:  9\n"
     ]
    },
    {
     "data": {
      "image/png": "[encoded data removed]",
      "text/plain": [
       "<Figure size 432x288 with 1 Axes>"
      ]
     },
     "metadata": {
      "needs_background": "light"
     },
     "output_type": "display_data"
    }
   ],
   "source": [
    "test_prediction(0, w1, b1, w2, b2)\n",
    "test_prediction(1, w1, b1, w2, b2)\n",
    "test_prediction(2, w1, b1, w2, b2)\n",
    "test_prediction(3, w1, b1, w2, b2)"
   ]
  },
  {
   "cell_type": "code",
   "execution_count": 26,
   "metadata": {},
   "outputs": [
    {
     "data": {
      "text/plain": [
       "0.8598102234465871"
      ]
     },
     "execution_count": 26,
     "metadata": {},
     "output_type": "execute_result"
    }
   ],
   "source": [
    "\n",
    "dev_predictions = make_predictions(X_test, w1, b1, w2, b2)\n",
    "get_accuracy(dev_predictions, Y_test)"
   ]
  }
 ],
 "metadata": {
  "interpreter": {
   "hash": "9629cc658983539fc715441c098e5c3f0377085f7110096fe4c7b80679043bca"
  },
  "kernelspec": {
   "display_name": "Python 3.9.5 64-bit",
   "name": "python3"
  },
  "language_info": {
   "codemirror_mode": {
    "name": "ipython",
    "version": 3
   },
   "file_extension": ".py",
   "mimetype": "text/x-python",
   "name": "python",
   "nbconvert_exporter": "python",
   "pygments_lexer": "ipython3",
   "version": "3.9.5"
  },
  "orig_nbformat": 4
 },
 "nbformat": 4,
 "nbformat_minor": 2
}
