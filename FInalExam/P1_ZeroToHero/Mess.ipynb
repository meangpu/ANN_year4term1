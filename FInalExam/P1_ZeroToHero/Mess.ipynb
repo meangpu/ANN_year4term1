{
 "cells": [
  {
   "cell_type": "code",
   "execution_count": 1,
   "metadata": {},
   "outputs": [],
   "source": [
    "import numpy as np\n",
    "from matplotlib import pyplot as plt\n",
    "import meangpuFunction as TeacherFunc\n",
    "from sklearn.model_selection import train_test_split\n",
    "import time\n",
    "\n",
    "dat = np.load('P1data.npy', allow_pickle=True) \n",
    "X = dat[:,:-1].astype(float) \n",
    "Y = dat[:, -1].reshape((-1,1))\n",
    "X_train, X_test, Y_train, Y_test = train_test_split(X, Y, stratify=Y, test_size=0.14, random_state=1)"
   ]
  },
  {
   "cell_type": "code",
   "execution_count": 2,
   "metadata": {},
   "outputs": [],
   "source": [
    "Y_Copy = Y_train\n",
    "# reformat Y and prepare to do one hot [A B C D] = [0 1 2 3] \n",
    "Y_Copy[Y_Copy == 'A'] = 0\n",
    "Y_Copy[Y_Copy == 'B'] = 1\n",
    "Y_Copy[Y_Copy == 'C'] = 2\n",
    "Y_Copy[Y_Copy == 'D'] = 3\n",
    "Y_Copy = Y_Copy.astype(int)\n",
    "Y_train_hot = TeacherFunc.onehot(Y_Copy)"
   ]
  },
  {
   "cell_type": "code",
   "execution_count": 13,
   "metadata": {},
   "outputs": [
    {
     "data": {
      "text/plain": [
       "<module 'meangpuFunction' from 'c:\\\\Users\\\\meang\\\\Desktop\\\\ANNfinal\\\\ZeroToHero\\\\meangpuFunction.py'>"
      ]
     },
     "execution_count": 13,
     "metadata": {},
     "output_type": "execute_result"
    }
   ],
   "source": [
    "import importlib\n",
    "importlib.reload(TeacherFunc)"
   ]
  },
  {
   "cell_type": "code",
   "execution_count": 6,
   "metadata": {},
   "outputs": [
    {
     "name": "stdout",
     "output_type": "stream",
     "text": [
      "[[1]\n",
      " [2]\n",
      " [0]\n",
      " ...\n",
      " [0]\n",
      " [1]\n",
      " [0]]\n"
     ]
    }
   ],
   "source": [
    "Y_train_int = Y_train.astype(int)\n",
    "print(Y_train_int)"
   ]
  },
  {
   "cell_type": "markdown",
   "metadata": {},
   "source": [
    "MainLearn"
   ]
  },
  {
   "cell_type": "markdown",
   "metadata": {},
   "source": [
    "AAAAAAAAAAAAAAA"
   ]
  },
  {
   "cell_type": "code",
   "execution_count": 14,
   "metadata": {},
   "outputs": [
    {
     "data": {
      "text/plain": [
       "<module 'meangpuFunction' from 'c:\\\\Users\\\\meang\\\\Desktop\\\\ANNfinal\\\\ZeroToHero\\\\meangpuFunction.py'>"
      ]
     },
     "execution_count": 14,
     "metadata": {},
     "output_type": "execute_result"
    }
   ],
   "source": [
    "import importlib\n",
    "importlib.reload(TeacherFunc)"
   ]
  },
  {
   "cell_type": "code",
   "execution_count": 15,
   "metadata": {},
   "outputs": [
    {
     "name": "stdout",
     "output_type": "stream",
     "text": [
      "sample: 0\n",
      "[[0. 1. 0. 0.]\n",
      " [0. 0. 1. 0.]\n",
      " [1. 0. 0. 0.]\n",
      " ...\n",
      " [1. 0. 0. 0.]\n",
      " [0. 1. 0. 0.]\n",
      " [1. 0. 0. 0.]]\n",
      "[[0.07255837 0.02851452 0.8901486  0.00877851]\n",
      " [0.01188001 0.00652296 0.96765259 0.01394445]\n",
      " [0.23095903 0.3077097  0.24150315 0.21982812]\n",
      " ...\n",
      " [0.2056078  0.13510107 0.61284532 0.04644581]\n",
      " [0.13764806 0.0850478  0.74024093 0.03706321]\n",
      " [0.31872104 0.34057306 0.21617069 0.12453521]]\n"
     ]
    },
    {
     "ename": "IndexError",
     "evalue": "arrays used as indices must be of integer (or boolean) type",
     "output_type": "error",
     "traceback": [
      "\u001b[1;31m---------------------------------------------------------------------------\u001b[0m",
      "\u001b[1;31mIndexError\u001b[0m                                Traceback (most recent call last)",
      "\u001b[1;32m~\\AppData\\Local\\Temp/ipykernel_5408/519559828.py\u001b[0m in \u001b[0;36m<module>\u001b[1;34m\u001b[0m\n\u001b[0;32m     25\u001b[0m \u001b[1;33m\u001b[0m\u001b[0m\n\u001b[0;32m     26\u001b[0m     \u001b[0mt1\u001b[0m \u001b[1;33m=\u001b[0m \u001b[0mtime\u001b[0m\u001b[1;33m.\u001b[0m\u001b[0mtime\u001b[0m\u001b[1;33m(\u001b[0m\u001b[1;33m)\u001b[0m\u001b[1;33m\u001b[0m\u001b[1;33m\u001b[0m\u001b[0m\n\u001b[1;32m---> 27\u001b[1;33m     cc, vv, bb, ww, train_loss, accuracy_end = TeacherFunc.train_mlp2_meangpu(b2, W2, b1, W1, X_train, Y_train_hot, Y_train_int, lr1, lr2,\n\u001b[0m\u001b[0;32m     28\u001b[0m                                             epochs, TeacherFunc.identity, TeacherFunc.mse_loss)\n\u001b[0;32m     29\u001b[0m     \u001b[0mt2\u001b[0m \u001b[1;33m=\u001b[0m \u001b[0mtime\u001b[0m\u001b[1;33m.\u001b[0m\u001b[0mtime\u001b[0m\u001b[1;33m(\u001b[0m\u001b[1;33m)\u001b[0m\u001b[1;33m\u001b[0m\u001b[1;33m\u001b[0m\u001b[0m\n",
      "\u001b[1;32mc:\\Users\\meang\\Desktop\\ANNfinal\\ZeroToHero\\meangpuFunction.py\u001b[0m in \u001b[0;36mtrain_mlp2_meangpu\u001b[1;34m(b2, w2, b1, w1, X, Y, allY, lr1, lr2, nepochs, oact, loss, disp, val, val_criteria)\u001b[0m\n\u001b[0;32m    160\u001b[0m       \u001b[0mprint\u001b[0m\u001b[1;33m(\u001b[0m\u001b[0mY\u001b[0m\u001b[1;33m)\u001b[0m\u001b[1;33m\u001b[0m\u001b[1;33m\u001b[0m\u001b[0m\n\u001b[0;32m    161\u001b[0m       \u001b[0mprint\u001b[0m\u001b[1;33m(\u001b[0m\u001b[0ma2\u001b[0m\u001b[1;33m)\u001b[0m\u001b[1;33m\u001b[0m\u001b[1;33m\u001b[0m\u001b[0m\n\u001b[1;32m--> 162\u001b[1;33m       \u001b[0mone_hot_Y\u001b[0m \u001b[1;33m=\u001b[0m \u001b[0monehot\u001b[0m\u001b[1;33m(\u001b[0m\u001b[0mY\u001b[0m\u001b[1;33m)\u001b[0m\u001b[1;33m\u001b[0m\u001b[1;33m\u001b[0m\u001b[0m\n\u001b[0m\u001b[0;32m    163\u001b[0m       \u001b[0mdZ2\u001b[0m \u001b[1;33m=\u001b[0m \u001b[0ma2\u001b[0m \u001b[1;33m-\u001b[0m \u001b[0mone_hot_Y\u001b[0m                  \u001b[1;31m# delta2: array N x K\u001b[0m\u001b[1;33m\u001b[0m\u001b[1;33m\u001b[0m\u001b[0m\n\u001b[0;32m    164\u001b[0m       \u001b[1;31m# w2 = (4, 4)\u001b[0m\u001b[1;33m\u001b[0m\u001b[1;33m\u001b[0m\u001b[1;33m\u001b[0m\u001b[0m\n",
      "\u001b[1;32mc:\\Users\\meang\\Desktop\\ANNfinal\\ZeroToHero\\meangpuFunction.py\u001b[0m in \u001b[0;36monehot\u001b[1;34m(y, classes)\u001b[0m\n\u001b[0;32m    245\u001b[0m   \u001b[0mcodebook\u001b[0m \u001b[1;33m=\u001b[0m \u001b[0mnp\u001b[0m\u001b[1;33m.\u001b[0m\u001b[0mdiag\u001b[0m\u001b[1;33m(\u001b[0m\u001b[0mnp\u001b[0m\u001b[1;33m.\u001b[0m\u001b[0mones\u001b[0m\u001b[1;33m(\u001b[0m\u001b[0mK\u001b[0m\u001b[1;33m)\u001b[0m\u001b[1;33m)\u001b[0m\u001b[1;33m\u001b[0m\u001b[1;33m\u001b[0m\u001b[0m\n\u001b[0;32m    246\u001b[0m \u001b[1;33m\u001b[0m\u001b[0m\n\u001b[1;32m--> 247\u001b[1;33m   \u001b[0myhot\u001b[0m \u001b[1;33m=\u001b[0m \u001b[0mcodebook\u001b[0m\u001b[1;33m[\u001b[0m\u001b[0my\u001b[0m\u001b[1;33m[\u001b[0m\u001b[1;33m:\u001b[0m\u001b[1;33m,\u001b[0m\u001b[1;36m0\u001b[0m\u001b[1;33m]\u001b[0m\u001b[1;33m]\u001b[0m\u001b[1;33m\u001b[0m\u001b[1;33m\u001b[0m\u001b[0m\n\u001b[0m\u001b[0;32m    248\u001b[0m \u001b[1;33m\u001b[0m\u001b[0m\n\u001b[0;32m    249\u001b[0m   \u001b[1;32mreturn\u001b[0m \u001b[0myhot\u001b[0m\u001b[1;33m\u001b[0m\u001b[1;33m\u001b[0m\u001b[0m\n",
      "\u001b[1;31mIndexError\u001b[0m: arrays used as indices must be of integer (or boolean) type"
     ]
    }
   ],
   "source": [
    "N, D = X_train.shape  # (3440, 2)\n",
    "_, K = Y_train_hot.shape  # (3440, 4)\n",
    "\n",
    "HU = 4\n",
    "epochs = 2000\n",
    "\n",
    "lr1Mul= 0.08\n",
    "lr2Mul= 0.08\n",
    "\n",
    "sample = 1\n",
    "\n",
    "lr1 = (1/N) * lr1Mul\n",
    "lr2 = (1/N) * lr2Mul\n",
    "\n",
    "debugFileName = \"testMeangpu.npy\"\n",
    "all_accuracy_list = []\n",
    "all_t1 = time.time()\n",
    "\n",
    "for i in range(sample):\n",
    "    print(f\"sample: {i}\")\n",
    "    W1 = np.random.rand(HU, D) - 0.5  # w === make value between -0.5 to 0.5\n",
    "    b1 = np.random.rand(HU, 1) - 0.5   # b === make value between -0.5 to 0.5\n",
    "    W2 = np.random.rand(K, HU) - 0.5   # v === make value between -0.5 to 0.5\n",
    "    b2 = np.random.rand(K, 1) - 0.5   # c === make value between -0.5 to 0.5\n",
    "\n",
    "    t1 = time.time()\n",
    "    cc, vv, bb, ww, train_loss, accuracy_end = TeacherFunc.train_mlp2_meangpu(b2, W2, b1, W1, X_train, Y_train_hot, Y_train_int, lr1, lr2,\n",
    "                                            epochs, TeacherFunc.identity, TeacherFunc.mse_loss)\n",
    "    t2 = time.time()\n",
    "\n",
    "    net = {'c': cc, 'v': vv, 'b': bb, 'w': ww}\n",
    "\n",
    "    # np.save(debugFileName, net)\n",
    "    np.save(f'meangpuCollect/{accuracy_end[-1]:.4f}-{i}', net)\n",
    "\n",
    "    print('Time spent:', t2 - t1)\n",
    "    all_accuracy_list.append(accuracy_end[-1])\n",
    "\n",
    "    plt.plot(accuracy_end, label=i+1)\n",
    "    plt.legend(bbox_to_anchor=(1.2, 0.6))\n",
    "\n",
    "all_t2 = time.time()\n",
    "formattedList = [\"%.4f\" % member for member in all_accuracy_list]\n",
    "float_list = list(map(float, formattedList))\n",
    "print()\n",
    "print(\"All Accuracy\")\n",
    "print(float_list)\n",
    "print(f\"highest: {(np.max(float_list))*100}% || lowest: {(np.min(float_list))*100}%\")\n",
    "print(\"---------------------------------------------\")\n",
    "print(f'LR1: {lr1Mul} || LR2: {lr2Mul} || HU: {HU} || epochs: {epochs} || sample: {sample}')\n",
    "print(f\"AVG accuracy = {(np.average(all_accuracy_list))*100:.2f}%\")\n",
    "print(f'Took {all_t2 - all_t1:.2f} seconds')\n",
    "plt.title(f'plot for i {sample} times')\n"
   ]
  },
  {
   "cell_type": "markdown",
   "metadata": {},
   "source": [
    "LearnEvolve"
   ]
  },
  {
   "cell_type": "code",
   "execution_count": 116,
   "metadata": {},
   "outputs": [],
   "source": [
    "dat = np.load('P1data.npy', allow_pickle=True) \n",
    "X = dat[:,:-1].astype(float) \n",
    "Y = dat[:, -1].reshape((-1,1))\n",
    "X_train, X_test, Y_train, Y_test = train_test_split(X, Y, stratify=Y, test_size=0.14, random_state=5)\n",
    "\n",
    "Y_Copy = Y_train\n",
    "# reformat Y and prepare to do one hot [A B C D] = [0 1 2 3] \n",
    "Y_Copy[Y_Copy == 'A'] = 0\n",
    "Y_Copy[Y_Copy == 'B'] = 1\n",
    "Y_Copy[Y_Copy == 'C'] = 2\n",
    "Y_Copy[Y_Copy == 'D'] = 3\n",
    "Y_Copy = Y_Copy.astype(int)\n",
    "Y_train_hot = TeacherFunc.onehot(Y_Copy)\n",
    "\n",
    "Y_train_int = Y_train.astype(int)"
   ]
  },
  {
   "cell_type": "code",
   "execution_count": 141,
   "metadata": {},
   "outputs": [
    {
     "name": "stdout",
     "output_type": "stream",
     "text": [
      "sample: 0\n",
      "Time spent: 1.6953794956207275\n",
      "sample: 1\n",
      "Time spent: 1.6853768825531006\n",
      "sample: 2\n",
      "Time spent: 1.6623718738555908\n",
      "sample: 3\n",
      "Time spent: 1.6683735847473145\n",
      "sample: 4\n",
      "Time spent: 1.6693732738494873\n",
      "sample: 5\n",
      "Time spent: 1.6833765506744385\n",
      "sample: 6\n",
      "Time spent: 1.6743738651275635\n",
      "sample: 7\n",
      "Time spent: 1.7203843593597412\n",
      "sample: 8\n",
      "Time spent: 1.6843767166137695\n",
      "sample: 9\n",
      "Time spent: 1.6653728485107422\n",
      "sample: 10\n",
      "Time spent: 1.6673734188079834\n",
      "sample: 11\n",
      "Time spent: 1.6663727760314941\n",
      "sample: 12\n",
      "Time spent: 1.686377763748169\n",
      "sample: 13\n",
      "Time spent: 1.6813762187957764\n",
      "sample: 14\n",
      "Time spent: 1.6557903289794922\n",
      "sample: 15\n",
      "Time spent: 1.6743748188018799\n",
      "sample: 16\n",
      "Time spent: 1.7208547592163086\n",
      "sample: 17\n",
      "Time spent: 1.6752686500549316\n",
      "sample: 18\n",
      "Time spent: 1.6922764778137207\n",
      "sample: 19\n",
      "Time spent: 1.689377784729004\n",
      "\n",
      "All Accuracy\n",
      "[0.7544, 0.7549, 0.7547, 0.7544, 0.7544, 0.7544, 0.7547, 0.7549, 0.7549, 0.7549, 0.7547, 0.7547, 0.7549, 0.7555, 0.7552, 0.7552, 0.7552, 0.7555, 0.7555, 0.7555]\n",
      "highest: 75.55% || lowest: 75.44%\n",
      "---------------------------------------------\n",
      "LR1: 0.4 || LR2: 0.6 || HU: 6 || epochs: 2000 || sample: 20\n",
      "AVG accuracy = 75.49%\n",
      "Took 33.81 seconds\n"
     ]
    },
    {
     "data": {
      "text/plain": [
       "Text(0.5, 1.0, 'plot for i 20 times')"
      ]
     },
     "execution_count": 141,
     "metadata": {},
     "output_type": "execute_result"
    },
    {
     "data": {
      "image/png": "[encoded data removed]",
      "text/plain": [
       "<Figure size 432x288 with 1 Axes>"
      ]
     },
     "metadata": {
      "needs_background": "light"
     },
     "output_type": "display_data"
    }
   ],
   "source": [
    "N, D = X_train.shape  # (3440, 2)\n",
    "_, K = Y_train_hot.shape  # (3440, 4)\n",
    "\n",
    "dat = np.load('P1data.npy', allow_pickle=True)\n",
    "X = dat[:,:-1].astype(float)\n",
    "Y = dat[:, -1]\n",
    "\n",
    "HU = 6\n",
    "epochs = 2000\n",
    "\n",
    "lr1Mul= 0.4\n",
    "lr2Mul= 0.6\n",
    "\n",
    "sample = 20\n",
    "\n",
    "lr1 = (1/N) * lr1Mul\n",
    "lr2 = (1/N) * lr2Mul\n",
    "\n",
    "\n",
    "all_accuracy_list = []\n",
    "all_t1 = time.time()\n",
    "\n",
    "debugFileName = \"meangpuCollect/0.7544.npy\"\n",
    "loaded_net = np.load(debugFileName, allow_pickle=True).tolist()\n",
    "loadCC, loadVV, loadBB, loadWW = loaded_net['c'], loaded_net['v'], loaded_net['b'], loaded_net['w']\n",
    "\n",
    "\n",
    "for i in range(sample):\n",
    "    print(f\"sample: {i}\")\n",
    "    W1 = loaded_net['w']\n",
    "    b1 = loaded_net['b']\n",
    "    W2 = loaded_net['v']\n",
    "    b2 = loaded_net['c']\n",
    "\n",
    "    t1 = time.time()\n",
    "    cc, vv, bb, ww, train_loss, accuracy_end = TeacherFunc.train_mlp2(b2, W2, b1, W1, X_train, Y_train_hot, Y_train_int, lr1, lr2,\n",
    "                                            epochs, TeacherFunc.identity, TeacherFunc.mse_loss)\n",
    "    t2 = time.time()\n",
    "\n",
    "    net = {'c': cc, 'v': vv, 'b': bb, 'w': ww}\n",
    "\n",
    "    #######################\n",
    "    Yp = TeacherFunc.mlp2(cc, vv, bb, ww, X, TeacherFunc.softmax)\n",
    "\n",
    "    # Post-process the output from [[0.1, 0.1, 0.2, 0.6], [0.1, 0.6, 0.1, 0.3]. ...] to [[3], [2], ...]\n",
    "    realPredict = np.argmax(Yp, axis=1).reshape((-1,1))\n",
    "\n",
    "    # [[0],[1],[2],[3]] = ['A', 'B', 'C', 'D']\n",
    "    class_labels = ['A', 'B', 'C', 'D']\n",
    "    predicted_labels = [class_labels[int(n)] for n in realPredict]\n",
    "    test_acc = np.mean(predicted_labels == Y)\n",
    "    \n",
    "    #######################\n",
    "\n",
    "    # np.save(debugFileName, net)\n",
    "    np.save(f'meangpuCollect/{accuracy_end[-1]:.4f}-{i}-{test_acc*100:.2f}', net)\n",
    "\n",
    "    print('Time spent:', t2 - t1)\n",
    "    all_accuracy_list.append(accuracy_end[-1])\n",
    "\n",
    "    plt.plot(accuracy_end, label=i+1)\n",
    "    plt.legend(bbox_to_anchor=(1.2, 0.6))\n",
    "\n",
    "all_t2 = time.time()\n",
    "formattedList = [\"%.4f\" % member for member in all_accuracy_list]\n",
    "float_list = list(map(float, formattedList))\n",
    "print()\n",
    "print(\"All Accuracy\")\n",
    "print(float_list)\n",
    "print(f\"highest: {(np.max(float_list))*100}% || lowest: {(np.min(float_list))*100}%\")\n",
    "print(\"---------------------------------------------\")\n",
    "print(f'LR1: {lr1Mul} || LR2: {lr2Mul} || HU: {HU} || epochs: {epochs} || sample: {sample}')\n",
    "print(f\"AVG accuracy = {(np.average(all_accuracy_list))*100:.2f}%\")\n",
    "print(f'Took {all_t2 - all_t1:.2f} seconds')\n",
    "plt.title(f'plot for i {sample} times')\n"
   ]
  },
  {
   "cell_type": "code",
   "execution_count": 90,
   "metadata": {},
   "outputs": [
    {
     "name": "stdout",
     "output_type": "stream",
     "text": [
      "(4, 1) (4, 6) (6, 1) (6, 2)\n"
     ]
    }
   ],
   "source": [
    "print(loadCC.shape, loadVV.shape, loadBB.shape, loadWW.shape)"
   ]
  },
  {
   "cell_type": "code",
   "execution_count": 103,
   "metadata": {},
   "outputs": [],
   "source": [
    "def P1_predict(x):\n",
    "  \"\"\"\n",
    "  x: np.array of shape (N,D)\n",
    "  return y: list of classes\n",
    "  \"\"\"\n",
    "\n",
    "  # Load weights\n",
    "  loaded_net = np.load(debugFileName, allow_pickle=True).tolist()\n",
    "\n",
    "  # Run network\n",
    "  Yp = TeacherFunc.mlp2(loaded_net['c'], loaded_net['v'], \n",
    "          loaded_net['b'], loaded_net['w'], x, TeacherFunc.identity)\n",
    "\n",
    "  # Post-process the output from [[0.1, 0.1, 0.2, 0.6], [0.1, 0.6, 0.1, 0.3]. ...] to [[3], [2], ...]\n",
    "  realPredict = np.argmax(Yp, axis=1).reshape((-1,1))\n",
    "\n",
    "  # [[0],[1],[2],[3]] = ['A', 'B', 'C', 'D']\n",
    "  class_labels = ['A', 'B', 'C', 'D']\n",
    "\n",
    "\n",
    "  predicted_labels = [class_labels[int(n)] for n in realPredict]\n",
    "  # predicted_labels = [class_labels[int(n)] for n in np.round(Yp)]\n",
    "\n",
    "  return predicted_labels"
   ]
  },
  {
   "cell_type": "code",
   "execution_count": 121,
   "metadata": {},
   "outputs": [
    {
     "name": "stdout",
     "output_type": "stream",
     "text": [
      "Accuracy 0.7295\n"
     ]
    }
   ],
   "source": [
    "dat = np.load('P1data.npy', allow_pickle=True)\n",
    "X = dat[:,:-1].astype(float)\n",
    "Y = dat[:, -1]\n",
    "\n",
    "plabs = P1_predict(X)\n",
    "\n",
    "acc = np.mean(plabs == Y)\n",
    "print('Accuracy', acc)"
   ]
  },
  {
   "cell_type": "code",
   "execution_count": null,
   "metadata": {},
   "outputs": [],
   "source": [
    "print(plabs)\n",
    "print(Y)"
   ]
  },
  {
   "cell_type": "code",
   "execution_count": 143,
   "metadata": {},
   "outputs": [
    {
     "name": "stdout",
     "output_type": "stream",
     "text": [
      "Test accuracy 0.72925\n"
     ]
    }
   ],
   "source": [
    "dat = np.load('P1data.npy', allow_pickle=True)\n",
    "X = dat[:,:-1].astype(float)\n",
    "Y = dat[:, -1]\n",
    "debugFileName = \"meangpuCollect/0.7544-4-75.48.npy\"\n",
    "loaded_net = np.load(debugFileName, allow_pickle=True).tolist()\n",
    "loadCC, loadVV, loadBB, loadWW = loaded_net['c'], loaded_net['v'], loaded_net['b'], loaded_net['w']\n",
    "\n",
    "Yp = TeacherFunc.mlp2(loadCC, loadVV, loadBB, loadWW, X, TeacherFunc.softmax)\n",
    "\n",
    "# Post-process the output from [[0.1, 0.1, 0.2, 0.6], [0.1, 0.6, 0.1, 0.3]. ...] to [[3], [2], ...]\n",
    "realPredict = np.argmax(Yp, axis=1).reshape((-1,1))\n",
    "\n",
    "# [[0],[1],[2],[3]] = ['A', 'B', 'C', 'D']\n",
    "class_labels = ['A', 'B', 'C', 'D']\n",
    "predicted_labels = [class_labels[int(n)] for n in realPredict]\n",
    "\n",
    "\n",
    "test_acc = np.mean(predicted_labels == Y)\n",
    "print('Test accuracy', test_acc)"
   ]
  }
 ],
 "metadata": {
  "interpreter": {
   "hash": "9629cc658983539fc715441c098e5c3f0377085f7110096fe4c7b80679043bca"
  },
  "kernelspec": {
   "display_name": "Python 3.9.5 64-bit",
   "language": "python",
   "name": "python3"
  },
  "language_info": {
   "codemirror_mode": {
    "name": "ipython",
    "version": 3
   },
   "file_extension": ".py",
   "mimetype": "text/x-python",
   "name": "python",
   "nbconvert_exporter": "python",
   "pygments_lexer": "ipython3",
   "version": "3.9.5"
  },
  "orig_nbformat": 4
 },
 "nbformat": 4,
 "nbformat_minor": 2
}
