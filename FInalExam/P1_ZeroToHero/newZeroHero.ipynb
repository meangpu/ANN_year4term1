{
 "cells": [
  {
   "cell_type": "code",
   "execution_count": 148,
   "metadata": {},
   "outputs": [],
   "source": [
    "import numpy as np\n",
    "from matplotlib import pyplot as plt\n",
    "import ANN_feAuxFixed1 as TeacherFunc\n",
    "from sklearn.model_selection import train_test_split\n",
    "import time\n",
    "\n",
    "dat = np.load('P1data.npy', allow_pickle=True) \n",
    "X = dat[:,:-1].astype(float) \n",
    "Y = dat[:, -1].reshape((-1,1))\n",
    "X_train, X_test, Y_train, Y_test = train_test_split(X, Y, stratify=Y, test_size=0.14, random_state=1)"
   ]
  },
  {
   "cell_type": "code",
   "execution_count": 149,
   "metadata": {},
   "outputs": [
    {
     "name": "stdout",
     "output_type": "stream",
     "text": [
      "['A' 'B' 'C' 'D']\n",
      "(3440, 2)\n",
      "(3440, 1)\n",
      "(560, 2)\n",
      "(560, 1)\n"
     ]
    }
   ],
   "source": [
    "print(np.unique(Y))\n",
    "print(X_train.shape)\n",
    "print(Y_train.shape)\n",
    "print(X_test.shape)\n",
    "print(Y_test.shape)"
   ]
  },
  {
   "cell_type": "code",
   "execution_count": 150,
   "metadata": {},
   "outputs": [
    {
     "name": "stdout",
     "output_type": "stream",
     "text": [
      "[['B']\n",
      " ['C']\n",
      " ['A']\n",
      " ...\n",
      " ['A']\n",
      " ['B']\n",
      " ['A']]\n"
     ]
    }
   ],
   "source": [
    "print(Y_train) # Y = [['B']]"
   ]
  },
  {
   "cell_type": "code",
   "execution_count": 157,
   "metadata": {},
   "outputs": [
    {
     "data": {
      "text/plain": [
       "<module 'ANN_feAuxFixed1' from 'c:\\\\Users\\\\meang\\\\Desktop\\\\ANNfinal\\\\ZeroToHero\\\\ANN_feAuxFixed1.py'>"
      ]
     },
     "execution_count": 157,
     "metadata": {},
     "output_type": "execute_result"
    }
   ],
   "source": [
    "import importlib\n",
    "importlib.reload(TeacherFunc)"
   ]
  },
  {
   "cell_type": "code",
   "execution_count": 152,
   "metadata": {},
   "outputs": [
    {
     "name": "stdout",
     "output_type": "stream",
     "text": [
      "[0 1 2 3]\n"
     ]
    }
   ],
   "source": [
    "Y_Copy = Y_train\n",
    "\n",
    "Y_Copy[Y_Copy == 'A'] = 0\n",
    "Y_Copy[Y_Copy == 'B'] = 1\n",
    "Y_Copy[Y_Copy == 'C'] = 2\n",
    "Y_Copy[Y_Copy == 'D'] = 3\n",
    "Y_Copy = Y_Copy.astype(int)\n",
    "print(np.unique(Y_Copy))"
   ]
  },
  {
   "cell_type": "code",
   "execution_count": 153,
   "metadata": {},
   "outputs": [
    {
     "name": "stdout",
     "output_type": "stream",
     "text": [
      "[[1]\n",
      " [2]\n",
      " [0]\n",
      " ...\n",
      " [0]\n",
      " [1]\n",
      " [0]]\n",
      "[[0. 1. 0. 0.]\n",
      " [0. 0. 1. 0.]\n",
      " [1. 0. 0. 0.]\n",
      " ...\n",
      " [1. 0. 0. 0.]\n",
      " [0. 1. 0. 0.]\n",
      " [1. 0. 0. 0.]]\n",
      "(3440, 4)\n"
     ]
    }
   ],
   "source": [
    "Y_train_hot = TeacherFunc.onehot(Y_Copy)\n",
    "print(Y_Copy)\n",
    "print(Y_train_hot)\n",
    "print(Y_train_hot.shape)"
   ]
  },
  {
   "cell_type": "code",
   "execution_count": 156,
   "metadata": {},
   "outputs": [
    {
     "data": {
      "text/plain": [
       "(3440, 4)"
      ]
     },
     "execution_count": 156,
     "metadata": {},
     "output_type": "execute_result"
    }
   ],
   "source": [
    "Y_train_hot.shape"
   ]
  },
  {
   "cell_type": "code",
   "execution_count": 158,
   "metadata": {},
   "outputs": [
    {
     "data": {
      "text/plain": [
       "<module 'ANN_feAuxFixed1' from 'c:\\\\Users\\\\meang\\\\Desktop\\\\ANNfinal\\\\ZeroToHero\\\\ANN_feAuxFixed1.py'>"
      ]
     },
     "execution_count": 158,
     "metadata": {},
     "output_type": "execute_result"
    }
   ],
   "source": [
    "import importlib\n",
    "importlib.reload(TeacherFunc)"
   ]
  },
  {
   "cell_type": "code",
   "execution_count": 162,
   "metadata": {},
   "outputs": [
    {
     "data": {
      "text/plain": [
       "Text(0.5, 1.0, 'good')"
      ]
     },
     "execution_count": 162,
     "metadata": {},
     "output_type": "execute_result"
    },
    {
     "data": {
      "image/png": "[encoded data removed]",
      "text/plain": [
       "<Figure size 432x288 with 1 Axes>"
      ]
     },
     "metadata": {
      "needs_background": "light"
     },
     "output_type": "display_data"
    }
   ],
   "source": [
    "N, D = X_train.shape  # (3440, 2)\n",
    "_, K = Y_train_hot.shape  # (3440, 4)\n",
    "\n",
    "HU = 20\n",
    "epochs = 8000\n",
    "\n",
    "lr1Mul= 0.2\n",
    "lr2Mul= 0.2\n",
    "\n",
    "lr1 = (1/N) * lr1Mul\n",
    "lr2 = (1/N) * lr2Mul\n",
    "\n",
    "debugFileName = \"testMeangpu.npy\"\n",
    "\n",
    "W1 = np.random.rand(HU, D) - 0.5  # w === make value between -0.5 to 0.5\n",
    "b1 = np.random.rand(HU, 1) - 0.5   # b === make value between -0.5 to 0.5\n",
    "W2 = np.random.rand(K, HU) - 0.5   # v === make value between -0.5 to 0.5\n",
    "b2 = np.random.rand(K, 1) - 0.5   # c === make value between -0.5 to 0.5\n",
    "\n",
    "cc, vv, bb, ww, train_loss = TeacherFunc.train_mlp2(b2, W2, b1, W1, X_train, Y_train_hot, lr1, lr2,\n",
    "                                        epochs, TeacherFunc.identity, TeacherFunc.mse_loss)\n",
    "\n",
    "net = {'c': cc, 'v': vv, 'b': bb, 'w': ww}\n",
    "np.save(debugFileName, net)\n",
    "\n",
    "# print(cc, vv, bb, ww)\n",
    "plt.plot(train_loss)\n",
    "plt.title('good')\n"
   ]
  },
  {
   "cell_type": "code",
   "execution_count": 163,
   "metadata": {},
   "outputs": [],
   "source": [
    "# dummypar = np.load('P1_dummypar.npy', allow_pickle=True) \n",
    "# dummyw = np.load('P1_dummyw.npy', allow_pickle=True).tolist()\n",
    "meangpuW = np.load(debugFileName, allow_pickle=True).tolist()"
   ]
  },
  {
   "cell_type": "code",
   "execution_count": 164,
   "metadata": {},
   "outputs": [
    {
     "name": "stdout",
     "output_type": "stream",
     "text": [
      "(20, 2)\n",
      "(20, 1)\n",
      "(4, 20)\n",
      "(4, 1)\n"
     ]
    }
   ],
   "source": [
    "print(meangpuW['w'].shape)\n",
    "print(meangpuW['b'].shape)\n",
    "print(meangpuW['v'].shape)\n",
    "print(meangpuW['c'].shape)"
   ]
  },
  {
   "cell_type": "code",
   "execution_count": 165,
   "metadata": {},
   "outputs": [
    {
     "name": "stdout",
     "output_type": "stream",
     "text": [
      "[[-0.39743721]\n",
      " [ 0.21862211]\n",
      " [ 0.57005759]\n",
      " [-0.11206653]]\n"
     ]
    }
   ],
   "source": [
    "print(meangpuW['c'])"
   ]
  },
  {
   "cell_type": "code",
   "execution_count": 166,
   "metadata": {},
   "outputs": [
    {
     "name": "stdout",
     "output_type": "stream",
     "text": [
      "Test accuracy 0.7446428571428572\n"
     ]
    }
   ],
   "source": [
    "Yp = TeacherFunc.mlp2(cc, vv, bb, ww, X_test, TeacherFunc.softmax)\n",
    "\n",
    "predicted_classes = np.argmax(Yp, axis=1)  \n",
    "predicted_classes = predicted_classes.reshape((-1,1))\n",
    "# print(predicted_classes)\n",
    "\n",
    "y_test_copy = Y_test\n",
    "y_test_copy[y_test_copy == 'A'] = 0\n",
    "y_test_copy[y_test_copy == 'B'] = 1\n",
    "y_test_copy[y_test_copy == 'C'] = 2\n",
    "y_test_copy[y_test_copy == 'D'] = 3\n",
    "y_test_copy = y_test_copy.astype(int)\n",
    "\n",
    "\n",
    "# print(y_test_copy)\n",
    "    \n",
    "\n",
    "test_acc = np.mean(predicted_classes == y_test_copy.astype(int))\n",
    "print('Test accuracy', test_acc)"
   ]
  },
  {
   "cell_type": "code",
   "execution_count": 167,
   "metadata": {},
   "outputs": [],
   "source": [
    "def P1_predict(x):\n",
    "  \"\"\"\n",
    "  x: np.array of shape (N,D)\n",
    "  return y: list of classes\n",
    "  \"\"\"\n",
    "\n",
    "  # WRITE YOUR CODE HERE!!!\n",
    "  # Load params\n",
    "#   loaded_par = np.load('P1_dummypar.npy', allow_pickle=True).tolist()\n",
    "  # Caution! you have to supply the data file! P1_dummypar.npy\n",
    "\n",
    "\n",
    "  # Load weights\n",
    "  loaded_net = np.load(debugFileName, allow_pickle=True).tolist()\n",
    "  # Caution! you have to supply the data file! P1_dummyweights0.npy\n",
    "\n",
    "  # Pre-process the input\n",
    "#   px = x * loaded_par['p1']\n",
    "\n",
    "\n",
    "  # Run network\n",
    "  Yp = TeacherFunc.mlp2(loaded_net['c'], loaded_net['v'], \n",
    "          loaded_net['b'], loaded_net['w'], x, TeacherFunc.identity)\n",
    "\n",
    "  # print(np.round(postY))\n",
    "  # print(np.unique(np.round(postY)))\n",
    "  realPredict = np.argmax(Yp, axis=1).reshape((-1,1))\n",
    "  print(realPredict)\n",
    "  print(np.unique(realPredict))\n",
    "\n",
    "  class_labels = ['A', 'B', 'C', 'D']\n",
    "  # print(\"============================================\")\n",
    "  # print(Yp)\n",
    "  # print(np.round(postY))\n",
    "  # print(np.unique(np.round(Yp)))\n",
    "  # for n in np.round(Yp):\n",
    "  #   print(class_labels[int(n)])\n",
    "  # print(\"============================================\")\n",
    "\n",
    "  # predicted_labels = [class_labels[int(n)] for n in np.round(Yp)]\n",
    "  predicted_labels = [class_labels[int(n)] for n in np.round(realPredict)]\n",
    "  # print(np.unique(predicted_labels))\n",
    "\n",
    "\n",
    "  return predicted_labels\n"
   ]
  },
  {
   "cell_type": "code",
   "execution_count": 132,
   "metadata": {},
   "outputs": [],
   "source": [
    "dat = np.load('P1data.npy', allow_pickle=True)\n",
    "X = dat[:,:-1].astype(float)"
   ]
  },
  {
   "cell_type": "code",
   "execution_count": 171,
   "metadata": {},
   "outputs": [
    {
     "name": "stdout",
     "output_type": "stream",
     "text": [
      "[[3]\n",
      " [0]\n",
      " [0]\n",
      " ...\n",
      " [1]\n",
      " [3]\n",
      " [2]]\n",
      "[0 1 2 3]\n"
     ]
    }
   ],
   "source": [
    "aaaaa = P1_predict(X)"
   ]
  },
  {
   "cell_type": "code",
   "execution_count": 173,
   "metadata": {},
   "outputs": [
    {
     "name": "stdout",
     "output_type": "stream",
     "text": [
      "[[3]\n",
      " [0]\n",
      " [0]\n",
      " ...\n",
      " [1]\n",
      " [3]\n",
      " [2]]\n",
      "[0 1 2 3]\n",
      "['A' 'B' 'C' 'D']\n",
      "Accuracy 0.74625\n"
     ]
    }
   ],
   "source": [
    "\n",
    "dat = np.load('P1data.npy', allow_pickle=True)\n",
    "X = dat[:,:-1].astype(float)\n",
    "Y = dat[:, -1]\n",
    "\n",
    "plabs = P1_predict(X)\n",
    "print(np.unique(plabs))\n",
    "\n",
    "acc = np.mean(plabs == Y)\n",
    "print('Accuracy', acc)\n"
   ]
  }
 ],
 "metadata": {
  "interpreter": {
   "hash": "9629cc658983539fc715441c098e5c3f0377085f7110096fe4c7b80679043bca"
  },
  "kernelspec": {
   "display_name": "Python 3.9.5 64-bit",
   "language": "python",
   "name": "python3"
  },
  "language_info": {
   "codemirror_mode": {
    "name": "ipython",
    "version": 3
   },
   "file_extension": ".py",
   "mimetype": "text/x-python",
   "name": "python",
   "nbconvert_exporter": "python",
   "pygments_lexer": "ipython3",
   "version": "3.9.5"
  },
  "orig_nbformat": 4
 },
 "nbformat": 4,
 "nbformat_minor": 2
}
