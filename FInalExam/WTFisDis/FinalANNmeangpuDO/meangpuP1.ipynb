{
 "cells": [
  {
   "cell_type": "code",
   "execution_count": 1,
   "metadata": {},
   "outputs": [],
   "source": [
    "import numpy as np\n",
    "import ANN_feAux as TeacherFunc\n",
    "from matplotlib import pyplot as plt\n",
    "from sklearn.model_selection import train_test_split\n",
    "import time\n",
    "\n",
    "dat = np.load('P1data.npy', allow_pickle=True) \n",
    "X = dat[:,:-1].astype(float) \n",
    "Y = dat[:, -1] \n"
   ]
  },
  {
   "cell_type": "code",
   "execution_count": 2,
   "metadata": {},
   "outputs": [],
   "source": [
    "np.random.shuffle(dat)\n",
    "X_train, X_test, Y_train, Y_test = train_test_split(X, Y, stratify=Y, test_size=0.14, random_state=21)"
   ]
  },
  {
   "cell_type": "code",
   "execution_count": 15,
   "metadata": {},
   "outputs": [
    {
     "name": "stdout",
     "output_type": "stream",
     "text": [
      "(3440, 2)\n",
      "(3440,)\n",
      "<class 'numpy.ndarray'>\n"
     ]
    }
   ],
   "source": [
    "# print(dat.shape)\n",
    "print(X_train.shape)\n",
    "print(Y_train.shape)\n",
    "print(type(Y_train))"
   ]
  },
  {
   "cell_type": "code",
   "execution_count": 4,
   "metadata": {},
   "outputs": [
    {
     "name": "stdout",
     "output_type": "stream",
     "text": [
      "(3440, 4)\n"
     ]
    }
   ],
   "source": [
    "# make y train into one hot\n",
    "Y_train[Y_train == 'A'] = 0\n",
    "Y_train[Y_train == 'B'] = 1\n",
    "Y_train[Y_train == 'C'] = 2\n",
    "Y_train[Y_train == 'D'] = 3\n",
    "\n",
    "Y_train_hot = TeacherFunc.onehot(Y_train.reshape((-1,1)).astype(int))\n",
    "\n",
    "print(Y_train_hot.shape)"
   ]
  },
  {
   "cell_type": "code",
   "execution_count": 5,
   "metadata": {},
   "outputs": [
    {
     "data": {
      "text/plain": [
       "array([[0., 1., 0., 0.],\n",
       "       [0., 0., 1., 0.],\n",
       "       [0., 0., 0., 1.],\n",
       "       ...,\n",
       "       [0., 0., 0., 1.],\n",
       "       [0., 1., 0., 0.],\n",
       "       [1., 0., 0., 0.]])"
      ]
     },
     "execution_count": 5,
     "metadata": {},
     "output_type": "execute_result"
    }
   ],
   "source": [
    "Y_train_hot"
   ]
  },
  {
   "cell_type": "code",
   "execution_count": 6,
   "metadata": {},
   "outputs": [
    {
     "data": {
      "text/plain": [
       "<module 'ANN_feAux' from 'c:\\\\Users\\\\meang\\\\Desktop\\\\ANNfinal\\\\FinalANNmeangpuDO\\\\ANN_feAux.py'>"
      ]
     },
     "execution_count": 6,
     "metadata": {},
     "output_type": "execute_result"
    }
   ],
   "source": [
    "# reload\n",
    "import importlib\n",
    "importlib.reload(TeacherFunc)"
   ]
  },
  {
   "cell_type": "code",
   "execution_count": 20,
   "metadata": {},
   "outputs": [
    {
     "name": "stdout",
     "output_type": "stream",
     "text": [
      "sample: 0\n",
      "<class 'numpy.ndarray'> <class 'numpy.ndarray'> <class 'numpy.ndarray'> <class 'numpy.ndarray'>\n",
      "Time spent: 0.4082305431365967\n",
      "All Accuracy\n",
      "\n",
      "---------------------------------------------\n",
      "LR1: 1 || LR2: 1 || HU: 4 || epochs: 400 || sample: 1\n",
      "AVG accuracy = 480952.64%\n",
      "Took 0.42 seconds\n"
     ]
    },
    {
     "data": {
      "image/png": "[encoded data removed]",
      "text/plain": [
       "<Figure size 432x288 with 1 Axes>"
      ]
     },
     "metadata": {
      "needs_background": "light"
     },
     "output_type": "display_data"
    }
   ],
   "source": [
    "N, D = X_train.shape  # (3440, 2)\n",
    "_, K = Y_train_hot.shape  # (3440, 4)\n",
    "\n",
    "# number of HUs hidden unit (hyper-parameter), \n",
    "M = 4\n",
    "\n",
    "lr1Mul= 1\n",
    "lr2Mul= 1\n",
    "\n",
    "sample = 1\n",
    "\n",
    "all_t1 = time.time()\n",
    "\n",
    "for i in range(sample):\n",
    "    print(f\"sample: {i}\")\n",
    "\n",
    "    epochs = 400\n",
    "\n",
    "    # Biases and weights (parameters)\n",
    "    c = np.random.normal(0, 1, K).reshape((K,1))   # 4*1\n",
    "    v = np.random.normal(0, 1, K*M).reshape((K,M))  # 10*8\n",
    "    b = np.random.normal(0, 1, M).reshape((M,1))  # 8*1\n",
    "    w = np.random.normal(0, 1, M*D).reshape((M,D))  # 8*784\n",
    "\n",
    "    lr1 = (1/N) * lr1Mul\n",
    "    lr2 = (1/N) * lr2Mul\n",
    "\n",
    "    oldy = Y_train_hot.astype(int)\n",
    "\n",
    "    t1 = time.time()\n",
    "    cc, vv, bb, ww, train_loss = TeacherFunc.train_mlp2(c, v, b, w, X_train, Y_train_hot, lr1, lr2, epochs, TeacherFunc.softmax, TeacherFunc.cc_entropy)\n",
    "    t2 = time.time()\n",
    "\n",
    "    print('Time spent:', t2 - t1)\n",
    "\n",
    "    # save file\n",
    "    net = {'c': cc, 'v': vv, 'b': bb, 'w': ww}\n",
    "    np.save(f'{i}-{train_loss[-1]:.4f}', net)\n",
    "\n",
    "    plt.plot(train_loss, label=i+1)\n",
    "    plt.legend(bbox_to_anchor=(1.2, 0.6))\n",
    "    plt.title(f'plot for i {sample} times')\n",
    "\n",
    "all_t2 = time.time()\n",
    "print(\"All Accuracy\")\n",
    "print()\n",
    "print(\"---------------------------------------------\")\n",
    "print(f'LR1: {lr1Mul} || LR2: {lr2Mul} || HU: {M} || epochs: {epochs} || sample: {sample}')\n",
    "print(f\"AVG accuracy = {(np.average(train_loss))*100:.2f}%\")\n",
    "print(f'Took {all_t2 - all_t1:.2f} seconds')"
   ]
  },
  {
   "cell_type": "code",
   "execution_count": null,
   "metadata": {},
   "outputs": [],
   "source": [
    "# Test network\n",
    "\n",
    "Yp = TeacherFunc.mlp2(cc, vv, bb, ww, X_test, TeacherFunc.softmax)\n",
    "predicted_classes = np.argmax(Yp, axis=1)\n",
    "\n",
    "# test_acc = np.mean(predicted_classes == Y_test.astype(int))\n",
    "# print('Test accuracy', test_acc)\n",
    "\n",
    "\n",
    "\n",
    "\n",
    "#   plabs = P1_predict(X)\n",
    "#   print(plabs)\n",
    "\n",
    "#   acc = np.mean(plabs == Y)\n",
    "#   print('Accuracy', acc)"
   ]
  }
 ],
 "metadata": {
  "interpreter": {
   "hash": "9629cc658983539fc715441c098e5c3f0377085f7110096fe4c7b80679043bca"
  },
  "kernelspec": {
   "display_name": "Python 3.9.5 64-bit",
   "language": "python",
   "name": "python3"
  },
  "language_info": {
   "codemirror_mode": {
    "name": "ipython",
    "version": 3
   },
   "file_extension": ".py",
   "mimetype": "text/x-python",
   "name": "python",
   "nbconvert_exporter": "python",
   "pygments_lexer": "ipython3",
   "version": "3.9.5"
  },
  "orig_nbformat": 4
 },
 "nbformat": 4,
 "nbformat_minor": 2
}
